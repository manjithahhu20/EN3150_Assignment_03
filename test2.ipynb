{
 "cells": [
  {
   "cell_type": "markdown",
   "metadata": {},
   "source": [
    "# Prepare Your Dataset"
   ]
  },
  {
   "cell_type": "markdown",
   "metadata": {},
   "source": [
    "### Import Necessary Libraries:"
   ]
  },
  {
   "cell_type": "code",
   "execution_count": 3,
   "metadata": {},
   "outputs": [],
   "source": [
    "import os\n",
    "import numpy as np\n",
    "import matplotlib.pyplot as plt\n",
    "from PIL import Image\n",
    "from sklearn.model_selection import train_test_split\n",
    "from sklearn.preprocessing import LabelEncoder\n",
    "from tensorflow.keras.utils import to_categorical\n",
    "from tensorflow.keras.preprocessing.image import ImageDataGenerator\n"
   ]
  },
  {
   "cell_type": "markdown",
   "metadata": {},
   "source": [
    "### Define Dataset Path and Parameters:"
   ]
  },
  {
   "cell_type": "code",
   "execution_count": null,
   "metadata": {},
   "outputs": [],
   "source": [
    "# Path to the dataset directory\n",
    "dataset_path = 'faces/'  # Replace with your actual path\n",
    "\n",
    "# Image parameters\n",
    "img_height, img_width = 64, 64  # Resize all images to 64x64\n",
    "channels = 1  # Grayscale images\n",
    "\n",
    "# Initialize lists to hold data and labels\n",
    "X = []\n",
    "y = []\n"
   ]
  },
  {
   "cell_type": "markdown",
   "metadata": {},
   "source": [
    "### Load Images and Extract Labels:"
   ]
  },
  {
   "cell_type": "code",
   "execution_count": null,
   "metadata": {},
   "outputs": [],
   "source": [
    "# List of all user IDs (subdirectory names)\n",
    "user_ids = os.listdir(dataset_path)\n",
    "user_ids = [uid for uid in user_ids if os.path.isdir(os.path.join(dataset_path, uid))]\n",
    "\n",
    "for uid in user_ids:\n",
    "    user_dir = os.path.join(dataset_path, uid)\n",
    "    for filename in os.listdir(user_dir):\n",
    "        if filename.endswith('.pgm'):\n",
    "            # Construct full file path\n",
    "            file_path = os.path.join(user_dir, filename)\n",
    "            \n",
    "            # Open and resize the image\n",
    "            try:\n",
    "                img = Image.open(file_path).convert('L')  # Convert to grayscale\n",
    "                img = img.resize((img_width, img_height))\n",
    "                img_array = np.array(img)\n",
    "                X.append(img_array)\n",
    "                y.append(uid)\n",
    "            except Exception as e:\n",
    "                print(f\"Error loading image {file_path}: {e}\")\n",
    "        else:\n",
    "            # Skip corrupted images with .bad suffix\n",
    "            print(f\"Skipping corrupted image: {filename}\")\n"
   ]
  }
 ],
 "metadata": {
  "kernelspec": {
   "display_name": "base",
   "language": "python",
   "name": "python3"
  },
  "language_info": {
   "codemirror_mode": {
    "name": "ipython",
    "version": 3
   },
   "file_extension": ".py",
   "mimetype": "text/x-python",
   "name": "python",
   "nbconvert_exporter": "python",
   "pygments_lexer": "ipython3",
   "version": "3.12.7"
  }
 },
 "nbformat": 4,
 "nbformat_minor": 2
}
